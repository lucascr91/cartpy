{
 "cells": [
  {
   "cell_type": "code",
   "execution_count": 1,
   "metadata": {},
   "outputs": [],
   "source": [
    "from geopandas import read_file\n",
    "import pandas as pd\n",
    "import numpy as np\n",
    "\n",
    "pd.set_option('max.rows',500)"
   ]
  },
  {
   "cell_type": "code",
   "execution_count": 2,
   "metadata": {},
   "outputs": [],
   "source": [
    "df=pd.DataFrame(columns=['codigo','nome','ano','geometry'])"
   ]
  },
  {
   "cell_type": "code",
   "execution_count": 3,
   "metadata": {},
   "outputs": [],
   "source": [
    "census = [1872,1900,1911,1920,1933,1940,1950,1960,1970,1980,1991]"
   ]
  },
  {
   "cell_type": "code",
   "execution_count": 4,
   "metadata": {},
   "outputs": [],
   "source": [
    "sf=read_file('/home/lucas/projects/grundrisse/1_datenbasis/6_landkarten/1991/malha_municipal/05-malha municipal 1991.shp')"
   ]
  },
  {
   "cell_type": "code",
   "execution_count": 5,
   "metadata": {},
   "outputs": [
    {
     "name": "stdout",
     "output_type": "stream",
     "text": [
      "1872: \n",
      "Index(['codigo', 'nome', 'geometry'], dtype='object')\n",
      "1900: \n",
      "Index(['codigo', 'nome', 'geometry'], dtype='object')\n",
      "1911: \n",
      "Index(['GEOCODIGO', 'NOMEMUNI', 'geometry'], dtype='object')\n",
      "1920: \n",
      "Index(['codigo', 'nome', 'geometry'], dtype='object')\n",
      "1933: \n",
      "Index(['codigo', 'nome', 'geometry'], dtype='object')\n",
      "1940: \n",
      "Index(['codigo', 'nome', 'geometry'], dtype='object')\n",
      "1950: \n",
      "Index(['codigo', 'nome', 'geometry'], dtype='object')\n",
      "1960: \n",
      "Index(['codigo', 'nome', 'geometry'], dtype='object')\n",
      "1970: \n",
      "Index(['codigo', 'nome', 'geometry'], dtype='object')\n",
      "1980: \n",
      "Index(['codigo', 'nome', 'geometry'], dtype='object')\n",
      "1991: \n",
      "Index(['BR91POLY_I', 'NOMEMUNICP', 'geometry'], dtype='object')\n"
     ]
    }
   ],
   "source": [
    "for year in census:\n",
    "    sf = read_file('/home/lucas/projects/grundrisse/1_datenbasis/6_landkarten/{0}/malha_municipal/05-malha municipal {0}.shp'.format(year))\n",
    "    print(str(year)+': ')\n",
    "    print(sf.columns)"
   ]
  },
  {
   "cell_type": "code",
   "execution_count": 6,
   "metadata": {},
   "outputs": [],
   "source": [
    "for year in census:\n",
    "    if year==1911:\n",
    "        sf = read_file('/home/lucas/projects/grundrisse/1_datenbasis/6_landkarten/{0}/malha_municipal/05-malha municipal {0}.shp'.format(year))\n",
    "        sf.columns=['codigo','nome','geometry']\n",
    "        sf['ano'] = year\n",
    "    elif year==1991:\n",
    "        sf = read_file('/home/lucas/projects/grundrisse/1_datenbasis/6_landkarten/{0}/malha_municipal/05-malha municipal {0}.shp'.format(year))\n",
    "        sf.columns=['codigo','nome','geometry']\n",
    "        sf['ano'] = year\n",
    "    else:\n",
    "        sf = read_file('/home/lucas/projects/grundrisse/1_datenbasis/6_landkarten/{0}/malha_municipal/05-malha municipal {0}.shp'.format(year))\n",
    "        sf['ano'] = year\n",
    "        \n",
    "    df=df.append(sf)"
   ]
  },
  {
   "cell_type": "code",
   "execution_count": 7,
   "metadata": {},
   "outputs": [],
   "source": [
    "lista_tables = pd.read_html('https://atendimento.tecnospeed.com.br/hc/pt-br/articles/360021494734-Tabela-de-C%C3%B3digo-de-UF-do-IBGE')\n",
    "df2=lista_tables[0].append(lista_tables[1]).append(lista_tables[2]).append(lista_tables[3])\\\n",
    ".append(lista_tables[4])"
   ]
  },
  {
   "cell_type": "code",
   "execution_count": 8,
   "metadata": {},
   "outputs": [],
   "source": [
    "df2.reset_index(drop=True, inplace=True)"
   ]
  },
  {
   "cell_type": "code",
   "execution_count": 9,
   "metadata": {},
   "outputs": [],
   "source": [
    "df2.columns = ['codigo','name','uf']"
   ]
  },
  {
   "cell_type": "code",
   "execution_count": 10,
   "metadata": {},
   "outputs": [],
   "source": [
    "codes=[df2['codigo'][k] for k in df2.index]\n",
    "states=[df2['uf'][k] for k in df2.index]"
   ]
  },
  {
   "cell_type": "code",
   "execution_count": 11,
   "metadata": {},
   "outputs": [],
   "source": [
    "df.reset_index(drop=True, inplace=True)"
   ]
  },
  {
   "cell_type": "code",
   "execution_count": 12,
   "metadata": {},
   "outputs": [],
   "source": [
    "df=df[~df.codigo.isna()]"
   ]
  },
  {
   "cell_type": "code",
   "execution_count": 13,
   "metadata": {},
   "outputs": [],
   "source": [
    "df['estado'] ='no code'\n",
    "\n",
    "for code, state in zip(codes,states):\n",
    "    df['estado'] = np.where([int(str(df['codigo'][k])[:2])==code for k in df.index],state,df['estado'])"
   ]
  },
  {
   "cell_type": "code",
   "execution_count": 14,
   "metadata": {},
   "outputs": [],
   "source": [
    "df['nome']=[k.title() if isinstance(k,str) else k for k in df['nome']]"
   ]
  },
  {
   "cell_type": "code",
   "execution_count": 15,
   "metadata": {},
   "outputs": [],
   "source": [
    "df.to_csv('../counties_1872_1991.csv',index=False)"
   ]
  }
 ],
 "metadata": {
  "kernelspec": {
   "display_name": "Python 3",
   "language": "python",
   "name": "python3"
  },
  "language_info": {
   "codemirror_mode": {
    "name": "ipython",
    "version": 3
   },
   "file_extension": ".py",
   "mimetype": "text/x-python",
   "name": "python",
   "nbconvert_exporter": "python",
   "pygments_lexer": "ipython3",
   "version": "3.7.6"
  }
 },
 "nbformat": 4,
 "nbformat_minor": 4
}
